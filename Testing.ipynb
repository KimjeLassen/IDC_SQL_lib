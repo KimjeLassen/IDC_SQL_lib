{
 "cells": [
  {
   "cell_type": "code",
   "execution_count": 11,
   "id": "e554e62a-f3d0-41c7-8716-539f33934929",
   "metadata": {},
   "outputs": [
    {
     "name": "stdout",
     "output_type": "stream",
     "text": [
      "Jira Servicedesk_Administrator\n",
      "Lederrolle\n",
      "Løn læse adgang\n",
      "Limited access to roles\n",
      "Naturbeskyttelse agent\n",
      "Naturbeskyttelse administrator\n",
      "SAPA adgang\n",
      "fzdfsfsdf\n",
      "Tangora Administrator\n",
      "Send mail ved tildeling\n",
      "SD-Feriegodkender\n",
      "SD-Fraværsgodkender\n",
      "SD-Leder\n",
      "Lederrolle\n",
      "Printer 1sal \n",
      "Printer 1sal \n",
      "Adgang\n",
      "Lederrolle\n",
      "Adgang\n",
      "Lederrolle\n",
      "Adgang\n",
      "ScanJour_Administrator\n",
      "Printer 1sal \n",
      "Jira Servicedesk_Administrator\n",
      "Lederrolle\n"
     ]
    }
   ],
   "source": [
    "import sys\n",
    "import os\n",
    "sys.path.insert(1, 'models')\n",
    "\n",
    "from models import position_roles_model, positions_model, user_roles_model, ous_model\n",
    "\n",
    "positions = positions_model.get_all_positions(6000)\n",
    "for pos in positions:\n",
    "    user_role_id = position_roles_model.get_position_role_from_position(pos.id)\n",
    "    for id in user_role_id:\n",
    "        user_role = user_roles_model.get_group_from_id(id.user_role_id)\n",
    "        print(user_role.name)"
   ]
  },
  {
   "cell_type": "code",
   "execution_count": null,
   "id": "9753be1f-781a-442d-84f8-f6ce43e7565a",
   "metadata": {},
   "outputs": [],
   "source": []
  }
 ],
 "metadata": {
  "kernelspec": {
   "display_name": "idc_kernel",
   "language": "python",
   "name": "idc_kernel"
  },
  "language_info": {
   "codemirror_mode": {
    "name": "ipython",
    "version": 3
   },
   "file_extension": ".py",
   "mimetype": "text/x-python",
   "name": "python",
   "nbconvert_exporter": "python",
   "pygments_lexer": "ipython3",
   "version": "3.12.7"
  }
 },
 "nbformat": 4,
 "nbformat_minor": 5
}

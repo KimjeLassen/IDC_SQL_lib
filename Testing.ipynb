{
 "cells": [
  {
   "cell_type": "code",
   "execution_count": 3,
   "id": "a3fc38b5",
   "metadata": {},
   "outputs": [],
   "source": [
    "from Main import clean_save_csv, optimal_clusters\n",
    "\n",
    "#csv_file_path = clean_save_csv()\n",
    "#best_k_elbow, best_k_silhouette, best_k_combined = optimal_clusters(csv_file_path, max_clusters=20, alpha=0.6, plot=True)"
   ]
  },
  {
   "cell_type": "code",
   "execution_count": null,
   "id": "fabd34bc-4319-4bde-9fc9-51e78ccc7328",
   "metadata": {},
   "outputs": [],
   "source": []
  }
 ],
 "metadata": {
  "kernelspec": {
   "display_name": "Python (idc_data_env)",
   "language": "python",
   "name": "idc_data_env"
  },
  "language_info": {
   "codemirror_mode": {
    "name": "ipython",
    "version": 3
   },
   "file_extension": ".py",
   "mimetype": "text/x-python",
   "name": "python",
   "nbconvert_exporter": "python",
   "pygments_lexer": "ipython3",
   "version": "3.12.7"
  }
 },
 "nbformat": 4,
 "nbformat_minor": 5
}

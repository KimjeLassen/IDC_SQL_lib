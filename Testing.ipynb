{
 "cells": [
  {
   "cell_type": "code",
   "execution_count": 1,
   "id": "e554e62a-f3d0-41c7-8716-539f33934929",
   "metadata": {},
   "outputs": [],
   "source": [
    "import sys\n",
    "import os\n",
    "sys.path.insert(1, 'models')\n",
    "\n",
    "from Main import clean_save_csv\n",
    "import pandas as pd\n",
    "\n",
    "clean_save_csv()"
   ]
  },
  {
   "cell_type": "code",
   "execution_count": null,
   "id": "9753be1f-781a-442d-84f8-f6ce43e7565a",
   "metadata": {},
   "outputs": [],
   "source": []
  },
  {
   "cell_type": "code",
   "execution_count": null,
   "id": "60dc7347-857d-49df-a5ab-2b4d23b99e9c",
   "metadata": {},
   "outputs": [],
   "source": []
  }
 ],
 "metadata": {
  "kernelspec": {
   "display_name": "Python (idc_data_env)",
   "language": "python",
   "name": "idc_data_env"
  },
  "language_info": {
   "codemirror_mode": {
    "name": "ipython",
    "version": 3
   },
   "file_extension": ".py",
   "mimetype": "text/x-python",
   "name": "python",
   "nbconvert_exporter": "python",
   "pygments_lexer": "ipython3",
   "version": "3.12.7"
  }
 },
 "nbformat": 4,
 "nbformat_minor": 5
}

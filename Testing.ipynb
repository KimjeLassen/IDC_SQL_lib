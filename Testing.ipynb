{
 "cells": [
  {
   "cell_type": "code",
   "execution_count": 3,
   "id": "e554e62a-f3d0-41c7-8716-539f33934929",
   "metadata": {},
   "outputs": [
    {
     "name": "stdout",
     "output_type": "stream",
     "text": [
      "[<models.positions_model.Positions object at 0x000001C042D96330>, <models.positions_model.Positions object at 0x000001C042D95F40>, <models.positions_model.Positions object at 0x000001C042D96180>, <models.positions_model.Positions object at 0x000001C042D96240>, <models.positions_model.Positions object at 0x000001C042D961B0>, <models.positions_model.Positions object at 0x000001C042D960C0>, <models.positions_model.Positions object at 0x000001C042D96120>, <models.positions_model.Positions object at 0x000001C042D96150>, <models.positions_model.Positions object at 0x000001C042D962A0>, <models.positions_model.Positions object at 0x000001C042D95940>]\n"
     ]
    }
   ],
   "source": [
    "import sys\n",
    "import os\n",
    "sys.path.insert(1, 'models')\n",
    "\n",
    "from models import position_roles_model, positions_model, user_roles_model, ous_model\n",
    "\n",
    "pos = positions_model.get_all_positions(10)\n"
   ]
  },
  {
   "cell_type": "code",
   "execution_count": null,
   "id": "2f1f5d9f-1541-4e9d-a768-5de657877e2e",
   "metadata": {},
   "outputs": [],
   "source": []
  },
  {
   "cell_type": "code",
   "execution_count": null,
   "id": "f282f473-3333-48f1-86e3-23eb228008a5",
   "metadata": {},
   "outputs": [],
   "source": []
  }
 ],
 "metadata": {
  "kernelspec": {
   "display_name": "Python (idc_data_env)",
   "language": "python",
   "name": "idc_data_env"
  },
  "language_info": {
   "codemirror_mode": {
    "name": "ipython",
    "version": 3
   },
   "file_extension": ".py",
   "mimetype": "text/x-python",
   "name": "python",
   "nbconvert_exporter": "python",
   "pygments_lexer": "ipython3",
   "version": "3.12.7"
  }
 },
 "nbformat": 4,
 "nbformat_minor": 5
}
